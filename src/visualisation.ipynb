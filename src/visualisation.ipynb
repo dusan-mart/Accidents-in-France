{
 "cells": [
  {
   "cell_type": "code",
   "execution_count": 1,
   "metadata": {},
   "outputs": [
    {
     "data": {
      "text/html": [
       "        <script type=\"text/javascript\">\n",
       "        window.PlotlyConfig = {MathJaxConfig: 'local'};\n",
       "        if (window.MathJax) {MathJax.Hub.Config({SVG: {font: \"STIX-Web\"}});}\n",
       "        if (typeof require !== 'undefined') {\n",
       "        require.undef(\"plotly\");\n",
       "        requirejs.config({\n",
       "            paths: {\n",
       "                'plotly': ['https://cdn.plot.ly/plotly-latest.min']\n",
       "            }\n",
       "        });\n",
       "        require(['plotly'], function(Plotly) {\n",
       "            window._Plotly = Plotly;\n",
       "        });\n",
       "        }\n",
       "        </script>\n",
       "        "
      ]
     },
     "metadata": {},
     "output_type": "display_data"
    }
   ],
   "source": [
    "import pandas as pd\n",
    "import numpy as np\n",
    "import plotly\n",
    "import plotly.graph_objs as go\n",
    "import plotly.figure_factory as ff\n",
    "import seaborn as sns\n",
    "import matplotlib as mplt\n",
    "%matplotlib inline\n",
    "plotly.offline.init_notebook_mode(connected=True)"
   ]
  },
  {
   "cell_type": "code",
   "execution_count": 2,
   "metadata": {},
   "outputs": [],
   "source": [
    "charactestics = pd.read_csv('caracteristics.csv', low_memory=False)\n",
    "holidays = pd.read_csv('holidays.csv', low_memory=False)\n",
    "places = pd.read_csv('places.csv', low_memory=False)\n",
    "users = pd.read_csv('users.csv',low_memory=False)\n"
   ]
  },
  {
   "cell_type": "code",
   "execution_count": 3,
   "metadata": {},
   "outputs": [],
   "source": [
    "rename_columns = {\n",
    "    #characterstics\n",
    "    'Num_Acc':'AccidentID',\n",
    "    'an':'year',\n",
    "    'mois':'month',\n",
    "    'jour':'day',\n",
    "    'hrmn':'hour',\n",
    "    'lum':'lighting',\n",
    "    'agg':'city/countryside',\n",
    "    'int':'intersection',\n",
    "    'atm':'atmosphericCondition',\n",
    "    'col':'collisionType',\n",
    "    'com':'municipality',\n",
    "    'adr':'address',\n",
    "    'gps':'gps_coding',\n",
    "    'lat':'latitude',\n",
    "    'long':'longitude',\n",
    "    'dep':'department',\n",
    "    #places\n",
    "    'catr':'roadCategory',\n",
    "    'voie':'roadNumber',\n",
    "    'v1':'routeNumber',\n",
    "    'v2':'routeName',\n",
    "    'circ':'trafficType',\n",
    "    'nbv':'numberofLanes',\n",
    "    'pr':'homePRNumber',\n",
    "    'pr1':'PRDistance',\n",
    "    'vosp':'reservedLane',\n",
    "    'prof':'roadProfile',\n",
    "    'plan':'laneStructure',\n",
    "    'lartpc':'centralLaneWidth',\n",
    "    'larrout':'outerLaneWidth',\n",
    "    'surf':'surfaceCondition',\n",
    "    'infra':'infrastructure',\n",
    "    'situ':'situationofAccident',\n",
    "    'env1':'schoolPoint',\n",
    "    #users\n",
    "    'Acc_number':'AccidentID',\n",
    "    'place':'place',\n",
    "    'catu':'userCategory',\n",
    "    'grav':'severity',\n",
    "    'sexe' : 'sex',\n",
    "    'trajet':'reasonForTraveling',\n",
    "    'secu':'safetyEquipment',\n",
    "    'locp':'locationOfPedestrian',\n",
    "    'actp':'actionOfPedestrian',\n",
    "    'etatp':'pedestrianGroup',\n",
    "    'an_nais':'yearOfBirth',\n",
    "    'num_veh':'registrationOfVehicle',\n",
    "}\n",
    "\n",
    "charactestics.rename(index=str, columns= rename_columns, inplace=True)\n",
    "holidays.rename(index=str, columns=rename_columns, inplace=True)\n",
    "places.rename(index=str, columns=rename_columns, inplace=True)\n",
    "users.rename(index=str, columns=rename_columns, inplace=True)\n"
   ]
  },
  {
   "cell_type": "code",
   "execution_count": 4,
   "metadata": {},
   "outputs": [],
   "source": [
    "#func taken from https://www.kaggle.com/kingofknights/accident-data-visualization \n",
    "def PlotPiechart(labels, values, columnName):\n",
    "    fig = {\n",
    "      \"data\": [\n",
    "        {\n",
    "          \"labels\": labels,\n",
    "          \"values\": values.AccidentID,\n",
    "          #\"domain\": {\"x\": [0, 1]},\n",
    "          \"name\": columnName,\n",
    "          \"hoverinfo\":\"label+percent+name\",\n",
    "          \"hole\": .6,\n",
    "          \"type\": \"pie\"\n",
    "        },\n",
    "         ],\n",
    "      \"layout\": {\n",
    "           # \"title\":\"Percentage of Accident happened in situations : \" + columnName,\n",
    "            \"title\":Title,\n",
    "            \"annotations\": [\n",
    "                {\n",
    "                    \"font\": {\n",
    "                        \"size\": 40\n",
    "                    },\n",
    "                    \"showarrow\": False,\n",
    "                    \"text\": \" \",\n",
    "                    \"x\": 5.50,\n",
    "                    \"y\": 0.5\n",
    "                }\n",
    "            ]\n",
    "        }\n",
    "    }\n",
    "    plt.iplot(fig)"
   ]
  },
  {
   "cell_type": "code",
   "execution_count": 5,
   "metadata": {},
   "outputs": [
    {
     "data": {
      "image/png": "[encoded data removed]",
      "text/plain": [
       "<Figure size 1080x360 with 1 Axes>"
      ]
     },
     "metadata": {
      "needs_background": "light"
     },
     "output_type": "display_data"
    }
   ],
   "source": [
    "#accidents per year\n",
    "import matplotlib.pyplot as plt\n",
    "accid_per_year = charactestics.groupby(['year']).count()\n",
    "accid_per_year = accid_per_year.iloc[:, 0:2] \n",
    "\n",
    "plt.figure(figsize=(15,5))\n",
    "plt.xlabel(\"Year\")\n",
    "plt.ylabel(\"Number of accidents\")\n",
    "plt.title(\"Accidents per year\")\n",
    "plt.plot(accid_per_year)\n",
    "\n",
    "plt.show()"
   ]
  },
  {
   "cell_type": "code",
   "execution_count": 6,
   "metadata": {},
   "outputs": [
    {
     "data": {
      "image/png": "[encoded data removed]",
      "text/plain": [
       "<Figure size 1080x360 with 1 Axes>"
      ]
     },
     "metadata": {
      "needs_background": "light"
     },
     "output_type": "display_data"
    }
   ],
   "source": [
    "#fatal accidents per year\n",
    "df = pd.merge(charactestics, users, on=\"AccidentID\")\n",
    "df = df.loc[:, ['AccidentID','year','severity']]\n",
    "df = df.loc[df['severity'] == 2]\n",
    "df = df.groupby(['year']).count()\n",
    "deaths_per_year = df.iloc[:, 0:2]\n",
    "\n",
    "\n",
    "plt.figure(figsize=(15,5))\n",
    "plt.title(\"Deaths per year\")\n",
    "plt.xlabel(\"Year\")\n",
    "plt.ylabel(\"Number of deaths\")\n",
    "plt.plot(deaths_per_year)\n",
    "\n",
    "plt.show()"
   ]
  },
  {
   "cell_type": "code",
   "execution_count": 7,
   "metadata": {},
   "outputs": [
    {
     "data": {
      "text/plain": [
       "Text(0,0.5,'Number of accidents')"
      ]
     },
     "execution_count": 7,
     "metadata": {},
     "output_type": "execute_result"
    },
    {
     "data": {
      "image/png": "[encoded data removed]",
      "text/plain": [
       "<Figure size 432x288 with 1 Axes>"
      ]
     },
     "metadata": {
      "needs_background": "light"
     },
     "output_type": "display_data"
    }
   ],
   "source": [
    "ax = sns.distplot(charactestics.month,bins=12,kde=False);\n",
    "sns.set(rc={'figure.figsize':(14,10)})\n",
    "plt.title('Number of accidents in months')\n",
    "plt.xlabel('months')\n",
    "plt.ylabel('Number of accidents')\n"
   ]
  },
  {
   "cell_type": "code",
   "execution_count": 8,
   "metadata": {},
   "outputs": [
    {
     "data": {
      "application/vnd.plotly.v1+json": {
       "config": {
        "linkText": "Export to plot.ly",
        "plotlyServerURL": "https://plot.ly",
        "showLink": false
       },
       "data": [
        {
         "marker": {
          "color": "rgb(20,20,20)",
          "line": {
           "color": [
            542,
            949,
            953,
            1012,
            1272,
            1433,
            1523,
            1568,
            1604,
            1667,
            1733,
            1753,
            1753,
            2118,
            2224,
            2257,
            2261,
            2352,
            2363,
            2383,
            2425,
            2452,
            2488,
            2563,
            2576,
            2660,
            2669,
            2884,
            2985,
            3076,
            3164,
            3212,
            3285,
            3360,
            3390,
            3411,
            3453,
            3491,
            3838,
            3846,
            3947,
            4059,
            4112,
            4562,
            4585,
            4605,
            4658,
            4829,
            4944,
            4948,
            4977,
            4997,
            5012,
            5068,
            5173,
            5350,
            5370,
            5564,
            5643,
            5748,
            5835,
            5889,
            5922,
            5974,
            6052,
            6226,
            7210,
            7291,
            7656,
            7835,
            7926,
            8531,
            8594,
            8831,
            9280,
            9408,
            9948,
            10241,
            10311,
            10338,
            10453,
            10455,
            10989,
            11142,
            11512,
            11592,
            12961,
            13473,
            14008,
            14190,
            14797,
            17463,
            22454,
            23838,
            25684,
            28447,
            29389,
            31261,
            33810,
            52188,
            87482
           ],
           "width": 4
          }
         },
         "opacity": 1,
         "text": [
          542,
          949,
          953,
          1012,
          1272,
          1433,
          1523,
          1568,
          1604,
          1667,
          1733,
          1753,
          1753,
          2118,
          2224,
          2257,
          2261,
          2352,
          2363,
          2383,
          2425,
          2452,
          2488,
          2563,
          2576,
          2660,
          2669,
          2884,
          2985,
          3076,
          3164,
          3212,
          3285,
          3360,
          3390,
          3411,
          3453,
          3491,
          3838,
          3846,
          3947,
          4059,
          4112,
          4562,
          4585,
          4605,
          4658,
          4829,
          4944,
          4948,
          4977,
          4997,
          5012,
          5068,
          5173,
          5350,
          5370,
          5564,
          5643,
          5748,
          5835,
          5889,
          5922,
          5974,
          6052,
          6226,
          7210,
          7291,
          7656,
          7835,
          7926,
          8531,
          8594,
          8831,
          9280,
          9408,
          9948,
          10241,
          10311,
          10338,
          10453,
          10455,
          10989,
          11142,
          11512,
          11592,
          12961,
          13473,
          14008,
          14190,
          14797,
          17463,
          22454,
          23838,
          25684,
          28447,
          29389,
          31261,
          33810,
          52188,
          87482
         ],
         "type": "bar",
         "uid": "e7662070-23de-4f16-a341-370365feb65b",
         "x": [
          976,
          480,
          230,
          150,
          90,
          460,
          50,
          390,
          700,
          80,
          530,
          550,
          40,
          320,
          430,
          610,
          120,
          810,
          70,
          520,
          160,
          900,
          730,
          580,
          790,
          820,
          100,
          201,
          650,
          880,
          400,
          190,
          470,
          360,
          890,
          30,
          240,
          660,
          20,
          180,
          410,
          850,
          202,
          110,
          860,
          510,
          280,
          710,
          973,
          840,
          270,
          250,
          210,
          971,
          720,
          220,
          10,
          450,
          260,
          140,
          600,
          740,
          680,
          500,
          972,
          870,
          800,
          370,
          290,
          560,
          570,
          630,
          974,
          540,
          420,
          380,
          170,
          490,
          350,
          300,
          640,
          620,
          760,
          670,
          770,
          440,
          830,
          950,
          340,
          310,
          780,
          910,
          330,
          590,
          690,
          60,
          940,
          920,
          930,
          130,
          750
         ],
         "y": [
          542,
          949,
          953,
          1012,
          1272,
          1433,
          1523,
          1568,
          1604,
          1667,
          1733,
          1753,
          1753,
          2118,
          2224,
          2257,
          2261,
          2352,
          2363,
          2383,
          2425,
          2452,
          2488,
          2563,
          2576,
          2660,
          2669,
          2884,
          2985,
          3076,
          3164,
          3212,
          3285,
          3360,
          3390,
          3411,
          3453,
          3491,
          3838,
          3846,
          3947,
          4059,
          4112,
          4562,
          4585,
          4605,
          4658,
          4829,
          4944,
          4948,
          4977,
          4997,
          5012,
          5068,
          5173,
          5350,
          5370,
          5564,
          5643,
          5748,
          5835,
          5889,
          5922,
          5974,
          6052,
          6226,
          7210,
          7291,
          7656,
          7835,
          7926,
          8531,
          8594,
          8831,
          9280,
          9408,
          9948,
          10241,
          10311,
          10338,
          10453,
          10455,
          10989,
          11142,
          11512,
          11592,
          12961,
          13473,
          14008,
          14190,
          14797,
          17463,
          22454,
          23838,
          25684,
          28447,
          29389,
          31261,
          33810,
          52188,
          87482
         ]
        }
       ],
       "layout": {
        "title": {
         "text": "Number of accidents by department"
        },
        "xaxis": {
         "title": {
          "text": "department"
         }
        },
        "yaxis": {
         "title": {
          "text": "Number of accidents"
         }
        }
       }
      },
      "text/html": [
       "<div>\n",
       "        \n",
       "        \n",
       "            <div id=\"496e946e-f49b-4a98-8200-f52191621196\" class=\"plotly-graph-div\" style=\"height:525px; width:100%;\"></div>\n",
       "            <script type=\"text/javascript\">\n",
       "                require([\"plotly\"], function(Plotly) {\n",
       "                    window.PLOTLYENV=window.PLOTLYENV || {};\n",
       "                    window.PLOTLYENV.BASE_URL='https://plot.ly';\n",
       "                    \n",
       "                if (document.getElementById(\"496e946e-f49b-4a98-8200-f52191621196\")) {\n",
       "                    Plotly.newPlot(\n",
       "                        '496e946e-f49b-4a98-8200-f52191621196',\n",
       "                        [{\"marker\": {\"color\": \"rgb(20,20,20)\", \"line\": {\"color\": [542, 949, 953, 1012, 1272, 1433, 1523, 1568, 1604, 1667, 1733, 1753, 1753, 2118, 2224, 2257, 2261, 2352, 2363, 2383, 2425, 2452, 2488, 2563, 2576, 2660, 2669, 2884, 2985, 3076, 3164, 3212, 3285, 3360, 3390, 3411, 3453, 3491, 3838, 3846, 3947, 4059, 4112, 4562, 4585, 4605, 4658, 4829, 4944, 4948, 4977, 4997, 5012, 5068, 5173, 5350, 5370, 5564, 5643, 5748, 5835, 5889, 5922, 5974, 6052, 6226, 7210, 7291, 7656, 7835, 7926, 8531, 8594, 8831, 9280, 9408, 9948, 10241, 10311, 10338, 10453, 10455, 10989, 11142, 11512, 11592, 12961, 13473, 14008, 14190, 14797, 17463, 22454, 23838, 25684, 28447, 29389, 31261, 33810, 52188, 87482], \"width\": 4}}, \"opacity\": 1, \"text\": [542.0, 949.0, 953.0, 1012.0, 1272.0, 1433.0, 1523.0, 1568.0, 1604.0, 1667.0, 1733.0, 1753.0, 1753.0, 2118.0, 2224.0, 2257.0, 2261.0, 2352.0, 2363.0, 2383.0, 2425.0, 2452.0, 2488.0, 2563.0, 2576.0, 2660.0, 2669.0, 2884.0, 2985.0, 3076.0, 3164.0, 3212.0, 3285.0, 3360.0, 3390.0, 3411.0, 3453.0, 3491.0, 3838.0, 3846.0, 3947.0, 4059.0, 4112.0, 4562.0, 4585.0, 4605.0, 4658.0, 4829.0, 4944.0, 4948.0, 4977.0, 4997.0, 5012.0, 5068.0, 5173.0, 5350.0, 5370.0, 5564.0, 5643.0, 5748.0, 5835.0, 5889.0, 5922.0, 5974.0, 6052.0, 6226.0, 7210.0, 7291.0, 7656.0, 7835.0, 7926.0, 8531.0, 8594.0, 8831.0, 9280.0, 9408.0, 9948.0, 10241.0, 10311.0, 10338.0, 10453.0, 10455.0, 10989.0, 11142.0, 11512.0, 11592.0, 12961.0, 13473.0, 14008.0, 14190.0, 14797.0, 17463.0, 22454.0, 23838.0, 25684.0, 28447.0, 29389.0, 31261.0, 33810.0, 52188.0, 87482.0], \"type\": \"bar\", \"uid\": \"e7662070-23de-4f16-a341-370365feb65b\", \"x\": [976, 480, 230, 150, 90, 460, 50, 390, 700, 80, 530, 550, 40, 320, 430, 610, 120, 810, 70, 520, 160, 900, 730, 580, 790, 820, 100, 201, 650, 880, 400, 190, 470, 360, 890, 30, 240, 660, 20, 180, 410, 850, 202, 110, 860, 510, 280, 710, 973, 840, 270, 250, 210, 971, 720, 220, 10, 450, 260, 140, 600, 740, 680, 500, 972, 870, 800, 370, 290, 560, 570, 630, 974, 540, 420, 380, 170, 490, 350, 300, 640, 620, 760, 670, 770, 440, 830, 950, 340, 310, 780, 910, 330, 590, 690, 60, 940, 920, 930, 130, 750], \"y\": [542, 949, 953, 1012, 1272, 1433, 1523, 1568, 1604, 1667, 1733, 1753, 1753, 2118, 2224, 2257, 2261, 2352, 2363, 2383, 2425, 2452, 2488, 2563, 2576, 2660, 2669, 2884, 2985, 3076, 3164, 3212, 3285, 3360, 3390, 3411, 3453, 3491, 3838, 3846, 3947, 4059, 4112, 4562, 4585, 4605, 4658, 4829, 4944, 4948, 4977, 4997, 5012, 5068, 5173, 5350, 5370, 5564, 5643, 5748, 5835, 5889, 5922, 5974, 6052, 6226, 7210, 7291, 7656, 7835, 7926, 8531, 8594, 8831, 9280, 9408, 9948, 10241, 10311, 10338, 10453, 10455, 10989, 11142, 11512, 11592, 12961, 13473, 14008, 14190, 14797, 17463, 22454, 23838, 25684, 28447, 29389, 31261, 33810, 52188, 87482]}],\n",
       "                        {\"title\": {\"text\": \"Number of accidents by department\"}, \"xaxis\": {\"title\": {\"text\": \"department\"}}, \"yaxis\": {\"title\": {\"text\": \"Number of accidents\"}}},\n",
       "                        {\"responsive\": true, \"plotlyServerURL\": \"https://plot.ly\", \"linkText\": \"Export to plot.ly\", \"showLink\": false}\n",
       "                    ).then(function(){\n",
       "                            \n",
       "var gd = document.getElementById('496e946e-f49b-4a98-8200-f52191621196');\n",
       "var x = new MutationObserver(function (mutations, observer) {{\n",
       "        var display = window.getComputedStyle(gd).display;\n",
       "        if (!display || display === 'none') {{\n",
       "            console.log([gd, 'removed!']);\n",
       "            Plotly.purge(gd);\n",
       "            observer.disconnect();\n",
       "        }}\n",
       "}});\n",
       "\n",
       "// Listen for the removal of the full notebook cells\n",
       "var notebookContainer = gd.closest('#notebook-container');\n",
       "if (notebookContainer) {{\n",
       "    x.observe(notebookContainer, {childList: true});\n",
       "}}\n",
       "\n",
       "// Listen for the clearing of the current output cell\n",
       "var outputEl = gd.closest('.output');\n",
       "if (outputEl) {{\n",
       "    x.observe(outputEl, {childList: true});\n",
       "}}\n",
       "\n",
       "                        })\n",
       "                };\n",
       "                });\n",
       "            </script>\n",
       "        </div>"
      ]
     },
     "metadata": {},
     "output_type": "display_data"
    }
   ],
   "source": [
    "#DEPARMENT with most accidents\n",
    "import plotly\n",
    "import plotly.offline as plt\n",
    "\n",
    "data = charactestics.groupby(by='department', as_index=False).count()\n",
    "data = data.sort_values(by='AccidentID')\n",
    "\n",
    "data = [go.Bar(x=data.department, y=data.AccidentID,text=data.AccidentID,\n",
    "            marker=dict(color='rgb(20,20,20)',line=dict(color=data.AccidentID, width=4),),\n",
    "            opacity=1\n",
    "        )]\n",
    "layout = go.Layout(\n",
    "    title='Number of accidents by department',\n",
    "    xaxis= dict( title= 'department'),\n",
    "    yaxis= dict( title= 'Number of accidents')\n",
    ")\n",
    "data = go.Figure(data=data, layout=layout)\n",
    "\n",
    "plt.iplot(data)\n"
   ]
  },
  {
   "cell_type": "code",
   "execution_count": 9,
   "metadata": {},
   "outputs": [
    {
     "data": {
      "application/vnd.plotly.v1+json": {
       "config": {
        "linkText": "Export to plot.ly",
        "plotlyServerURL": "https://plot.ly",
        "showLink": false
       },
       "data": [
        {
         "hole": 0.6,
         "hoverinfo": "label+percent+name",
         "labels": [
          "Highway",
          "National Road",
          "Departmental Road",
          "Communal Way",
          "Off public network",
          "Parking lot open to public traffic",
          "other"
         ],
         "name": "RoadCategory",
         "type": "pie",
         "uid": "9276ef6a-0bd4-4531-942b-d5028189591a",
         "values": [
          61077,
          67918,
          262690,
          425061,
          1634,
          5520,
          16084
         ]
        }
       ],
       "layout": {
        "annotations": [
         {
          "font": {
           "size": 40
          },
          "showarrow": false,
          "text": " ",
          "x": 5.5,
          "y": 0.5
         }
        ],
        "title": {
         "text": "Accidents by type of roads (road category) "
        }
       }
      },
      "text/html": [
       "<div>\n",
       "        \n",
       "        \n",
       "            <div id=\"d3edf232-e0c4-4cf2-9b32-552da39ce6e2\" class=\"plotly-graph-div\" style=\"height:525px; width:100%;\"></div>\n",
       "            <script type=\"text/javascript\">\n",
       "                require([\"plotly\"], function(Plotly) {\n",
       "                    window.PLOTLYENV=window.PLOTLYENV || {};\n",
       "                    window.PLOTLYENV.BASE_URL='https://plot.ly';\n",
       "                    \n",
       "                if (document.getElementById(\"d3edf232-e0c4-4cf2-9b32-552da39ce6e2\")) {\n",
       "                    Plotly.newPlot(\n",
       "                        'd3edf232-e0c4-4cf2-9b32-552da39ce6e2',\n",
       "                        [{\"hole\": 0.6, \"hoverinfo\": \"label+percent+name\", \"labels\": [\"Highway\", \"National Road\", \"Departmental Road\", \"Communal Way\", \"Off public network\", \"Parking lot open to public traffic\", \"other\"], \"name\": \"RoadCategory\", \"type\": \"pie\", \"uid\": \"9276ef6a-0bd4-4531-942b-d5028189591a\", \"values\": [61077, 67918, 262690, 425061, 1634, 5520, 16084]}],\n",
       "                        {\"annotations\": [{\"font\": {\"size\": 40}, \"showarrow\": false, \"text\": \" \", \"x\": 5.5, \"y\": 0.5}], \"title\": {\"text\": \"Accidents by type of roads (road category) \"}},\n",
       "                        {\"responsive\": true, \"plotlyServerURL\": \"https://plot.ly\", \"linkText\": \"Export to plot.ly\", \"showLink\": false}\n",
       "                    ).then(function(){\n",
       "                            \n",
       "var gd = document.getElementById('d3edf232-e0c4-4cf2-9b32-552da39ce6e2');\n",
       "var x = new MutationObserver(function (mutations, observer) {{\n",
       "        var display = window.getComputedStyle(gd).display;\n",
       "        if (!display || display === 'none') {{\n",
       "            console.log([gd, 'removed!']);\n",
       "            Plotly.purge(gd);\n",
       "            observer.disconnect();\n",
       "        }}\n",
       "}});\n",
       "\n",
       "// Listen for the removal of the full notebook cells\n",
       "var notebookContainer = gd.closest('#notebook-container');\n",
       "if (notebookContainer) {{\n",
       "    x.observe(notebookContainer, {childList: true});\n",
       "}}\n",
       "\n",
       "// Listen for the clearing of the current output cell\n",
       "var outputEl = gd.closest('.output');\n",
       "if (outputEl) {{\n",
       "    x.observe(outputEl, {childList: true});\n",
       "}}\n",
       "\n",
       "                        })\n",
       "                };\n",
       "                });\n",
       "            </script>\n",
       "        </div>"
      ]
     },
     "metadata": {},
     "output_type": "display_data"
    }
   ],
   "source": [
    "#accidents by road category\n",
    "data_roadCategory = places.groupby(by='roadCategory', as_index=False).count()\n",
    "RoadCategoryLabel = {1:'Highway',\n",
    "                    2:'National Road',\n",
    "                    3:'Departmental Road',\n",
    "                    4:'Communal Way',\n",
    "                    5:'Off public network',\n",
    "                    6:'Parking lot open to public traffic',\n",
    "                    9:'other'}\n",
    "\n",
    "data_roadCategory.roadCategory =  data_roadCategory.roadCategory.map(RoadCategoryLabel)\n",
    "\n",
    "Title = \"Accidents by type of roads (road category) \"\n",
    "PlotPiechart(data_roadCategory.roadCategory.values , data_roadCategory, 'RoadCategory')"
   ]
  },
  {
   "cell_type": "code",
   "execution_count": 10,
   "metadata": {},
   "outputs": [
    {
     "data": {
      "application/vnd.plotly.v1+json": {
       "config": {
        "linkText": "Export to plot.ly",
        "plotlyServerURL": "https://plot.ly",
        "showLink": false
       },
       "data": [
        {
         "hole": 0.6,
         "hoverinfo": "label+percent+name",
         "labels": [
          null,
          "Straight part",
          "Curved on the left",
          "Curved right",
          "In \"S\""
         ],
         "name": "LaneStructure",
         "type": "pie",
         "uid": "261239f1-3b32-4cd3-b94f-154bcb7a75c2",
         "values": [
          57847,
          639903,
          68483,
          61946,
          10730
         ]
        }
       ],
       "layout": {
        "annotations": [
         {
          "font": {
           "size": 40
          },
          "showarrow": false,
          "text": " ",
          "x": 5.5,
          "y": 0.5
         }
        ],
        "title": {
         "text": "Accidents by lane structure"
        }
       }
      },
      "text/html": [
       "<div>\n",
       "        \n",
       "        \n",
       "            <div id=\"23a880d7-f2f5-446f-b0d6-2cccfab0db69\" class=\"plotly-graph-div\" style=\"height:525px; width:100%;\"></div>\n",
       "            <script type=\"text/javascript\">\n",
       "                require([\"plotly\"], function(Plotly) {\n",
       "                    window.PLOTLYENV=window.PLOTLYENV || {};\n",
       "                    window.PLOTLYENV.BASE_URL='https://plot.ly';\n",
       "                    \n",
       "                if (document.getElementById(\"23a880d7-f2f5-446f-b0d6-2cccfab0db69\")) {\n",
       "                    Plotly.newPlot(\n",
       "                        '23a880d7-f2f5-446f-b0d6-2cccfab0db69',\n",
       "                        [{\"hole\": 0.6, \"hoverinfo\": \"label+percent+name\", \"labels\": [null, \"Straight part\", \"Curved on the left\", \"Curved right\", \"In \\\"S\\\"\"], \"name\": \"LaneStructure\", \"type\": \"pie\", \"uid\": \"261239f1-3b32-4cd3-b94f-154bcb7a75c2\", \"values\": [57847, 639903, 68483, 61946, 10730]}],\n",
       "                        {\"annotations\": [{\"font\": {\"size\": 40}, \"showarrow\": false, \"text\": \" \", \"x\": 5.5, \"y\": 0.5}], \"title\": {\"text\": \"Accidents by lane structure\"}},\n",
       "                        {\"responsive\": true, \"plotlyServerURL\": \"https://plot.ly\", \"linkText\": \"Export to plot.ly\", \"showLink\": false}\n",
       "                    ).then(function(){\n",
       "                            \n",
       "var gd = document.getElementById('23a880d7-f2f5-446f-b0d6-2cccfab0db69');\n",
       "var x = new MutationObserver(function (mutations, observer) {{\n",
       "        var display = window.getComputedStyle(gd).display;\n",
       "        if (!display || display === 'none') {{\n",
       "            console.log([gd, 'removed!']);\n",
       "            Plotly.purge(gd);\n",
       "            observer.disconnect();\n",
       "        }}\n",
       "}});\n",
       "\n",
       "// Listen for the removal of the full notebook cells\n",
       "var notebookContainer = gd.closest('#notebook-container');\n",
       "if (notebookContainer) {{\n",
       "    x.observe(notebookContainer, {childList: true});\n",
       "}}\n",
       "\n",
       "// Listen for the clearing of the current output cell\n",
       "var outputEl = gd.closest('.output');\n",
       "if (outputEl) {{\n",
       "    x.observe(outputEl, {childList: true});\n",
       "}}\n",
       "\n",
       "                        })\n",
       "                };\n",
       "                });\n",
       "            </script>\n",
       "        </div>"
      ]
     },
     "metadata": {},
     "output_type": "display_data"
    }
   ],
   "source": [
    "data_laneStructure = places.groupby(by='laneStructure', as_index=False).count()\n",
    "LaneStructureLabel = {\n",
    "    1:'Straight part',\n",
    "    2:'Curved on the left',\n",
    "    3:'Curved right',\n",
    "    4:'In \"S\"'\n",
    "}\n",
    "data_laneStructure.laneStructure =  data_laneStructure.laneStructure.map(LaneStructureLabel)\n",
    "\n",
    "Title = \"Accidents by lane structure\"\n",
    "PlotPiechart(data_laneStructure.laneStructure.values , data_laneStructure, 'LaneStructure')"
   ]
  },
  {
   "cell_type": "code",
   "execution_count": 11,
   "metadata": {},
   "outputs": [
    {
     "data": {
      "application/vnd.plotly.v1+json": {
       "config": {
        "linkText": "Export to plot.ly",
        "plotlyServerURL": "https://plot.ly",
        "showLink": false
       },
       "data": [
        {
         "hole": 0.6,
         "hoverinfo": "label+percent+name",
         "labels": [
          null,
          "normal",
          "wet",
          "puddles",
          "flooded",
          "snow",
          "mud",
          "icy",
          "fat - oil",
          "other"
         ],
         "name": "Surface condition",
         "type": "pie",
         "uid": "1caae974-d9c0-4c77-a477-fea9cc2b2027",
         "values": [
          26998,
          652322,
          143254,
          861,
          308,
          2643,
          466,
          5474,
          2159,
          4483
         ]
        }
       ],
       "layout": {
        "annotations": [
         {
          "font": {
           "size": 40
          },
          "showarrow": false,
          "text": " ",
          "x": 5.5,
          "y": 0.5
         }
        ],
        "title": {
         "text": "Accidents by surface condition"
        }
       }
      },
      "text/html": [
       "<div>\n",
       "        \n",
       "        \n",
       "            <div id=\"f30f0aab-8ce1-40a6-8303-aee907c64a91\" class=\"plotly-graph-div\" style=\"height:525px; width:100%;\"></div>\n",
       "            <script type=\"text/javascript\">\n",
       "                require([\"plotly\"], function(Plotly) {\n",
       "                    window.PLOTLYENV=window.PLOTLYENV || {};\n",
       "                    window.PLOTLYENV.BASE_URL='https://plot.ly';\n",
       "                    \n",
       "                if (document.getElementById(\"f30f0aab-8ce1-40a6-8303-aee907c64a91\")) {\n",
       "                    Plotly.newPlot(\n",
       "                        'f30f0aab-8ce1-40a6-8303-aee907c64a91',\n",
       "                        [{\"hole\": 0.6, \"hoverinfo\": \"label+percent+name\", \"labels\": [null, \"normal\", \"wet\", \"puddles\", \"flooded\", \"snow\", \"mud\", \"icy\", \"fat - oil\", \"other\"], \"name\": \"Surface condition\", \"type\": \"pie\", \"uid\": \"1caae974-d9c0-4c77-a477-fea9cc2b2027\", \"values\": [26998, 652322, 143254, 861, 308, 2643, 466, 5474, 2159, 4483]}],\n",
       "                        {\"annotations\": [{\"font\": {\"size\": 40}, \"showarrow\": false, \"text\": \" \", \"x\": 5.5, \"y\": 0.5}], \"title\": {\"text\": \"Accidents by surface condition\"}},\n",
       "                        {\"responsive\": true, \"plotlyServerURL\": \"https://plot.ly\", \"linkText\": \"Export to plot.ly\", \"showLink\": false}\n",
       "                    ).then(function(){\n",
       "                            \n",
       "var gd = document.getElementById('f30f0aab-8ce1-40a6-8303-aee907c64a91');\n",
       "var x = new MutationObserver(function (mutations, observer) {{\n",
       "        var display = window.getComputedStyle(gd).display;\n",
       "        if (!display || display === 'none') {{\n",
       "            console.log([gd, 'removed!']);\n",
       "            Plotly.purge(gd);\n",
       "            observer.disconnect();\n",
       "        }}\n",
       "}});\n",
       "\n",
       "// Listen for the removal of the full notebook cells\n",
       "var notebookContainer = gd.closest('#notebook-container');\n",
       "if (notebookContainer) {{\n",
       "    x.observe(notebookContainer, {childList: true});\n",
       "}}\n",
       "\n",
       "// Listen for the clearing of the current output cell\n",
       "var outputEl = gd.closest('.output');\n",
       "if (outputEl) {{\n",
       "    x.observe(outputEl, {childList: true});\n",
       "}}\n",
       "\n",
       "                        })\n",
       "                };\n",
       "                });\n",
       "            </script>\n",
       "        </div>"
      ]
     },
     "metadata": {},
     "output_type": "display_data"
    }
   ],
   "source": [
    "data_surface = places.groupby(by='surfaceCondition', as_index=False).count()\n",
    "SurfaceConditionLable = {\n",
    "    1 :'normal',\n",
    "    2 : 'wet',\n",
    "    3 : 'puddles',\n",
    "    4 : 'flooded',\n",
    "    5 : 'snow',\n",
    "    6 : 'mud',\n",
    "    7 : 'icy',\n",
    "    8 : 'fat - oil',\n",
    "    9 : 'other'\n",
    "}\n",
    "data_surface.surfaceCondition =  data_surface.surfaceCondition.map(SurfaceConditionLable)\n",
    "\n",
    "Title = \"Accidents by surface condition\"\n",
    "PlotPiechart(data_surface.surfaceCondition.values , data_surface, 'Surface condition')"
   ]
  },
  {
   "cell_type": "code",
   "execution_count": 12,
   "metadata": {},
   "outputs": [
    {
     "data": {
      "application/vnd.plotly.v1+json": {
       "config": {
        "linkText": "Export to plot.ly",
        "plotlyServerURL": "https://plot.ly",
        "showLink": false
       },
       "data": [
        {
         "hole": 0.6,
         "hoverinfo": "label+percent+name",
         "labels": [
          null,
          "One way",
          "Bidirectional",
          "Separated carriageways",
          "With variable assignment channels"
         ],
         "name": "Traffic type",
         "type": "pie",
         "uid": "e70ecb12-a196-4458-a168-116003df9b68",
         "values": [
          44556,
          149375,
          532823,
          107855,
          4578
         ]
        }
       ],
       "layout": {
        "annotations": [
         {
          "font": {
           "size": 40
          },
          "showarrow": false,
          "text": " ",
          "x": 5.5,
          "y": 0.5
         }
        ],
        "title": {
         "text": "Accidents by traffic type"
        }
       }
      },
      "text/html": [
       "<div>\n",
       "        \n",
       "        \n",
       "            <div id=\"2b292c60-a81b-442c-a3ee-a008695e52e7\" class=\"plotly-graph-div\" style=\"height:525px; width:100%;\"></div>\n",
       "            <script type=\"text/javascript\">\n",
       "                require([\"plotly\"], function(Plotly) {\n",
       "                    window.PLOTLYENV=window.PLOTLYENV || {};\n",
       "                    window.PLOTLYENV.BASE_URL='https://plot.ly';\n",
       "                    \n",
       "                if (document.getElementById(\"2b292c60-a81b-442c-a3ee-a008695e52e7\")) {\n",
       "                    Plotly.newPlot(\n",
       "                        '2b292c60-a81b-442c-a3ee-a008695e52e7',\n",
       "                        [{\"hole\": 0.6, \"hoverinfo\": \"label+percent+name\", \"labels\": [null, \"One way\", \"Bidirectional\", \"Separated carriageways\", \"With variable assignment channels\"], \"name\": \"Traffic type\", \"type\": \"pie\", \"uid\": \"e70ecb12-a196-4458-a168-116003df9b68\", \"values\": [44556, 149375, 532823, 107855, 4578]}],\n",
       "                        {\"annotations\": [{\"font\": {\"size\": 40}, \"showarrow\": false, \"text\": \" \", \"x\": 5.5, \"y\": 0.5}], \"title\": {\"text\": \"Accidents by traffic type\"}},\n",
       "                        {\"responsive\": true, \"plotlyServerURL\": \"https://plot.ly\", \"linkText\": \"Export to plot.ly\", \"showLink\": false}\n",
       "                    ).then(function(){\n",
       "                            \n",
       "var gd = document.getElementById('2b292c60-a81b-442c-a3ee-a008695e52e7');\n",
       "var x = new MutationObserver(function (mutations, observer) {{\n",
       "        var display = window.getComputedStyle(gd).display;\n",
       "        if (!display || display === 'none') {{\n",
       "            console.log([gd, 'removed!']);\n",
       "            Plotly.purge(gd);\n",
       "            observer.disconnect();\n",
       "        }}\n",
       "}});\n",
       "\n",
       "// Listen for the removal of the full notebook cells\n",
       "var notebookContainer = gd.closest('#notebook-container');\n",
       "if (notebookContainer) {{\n",
       "    x.observe(notebookContainer, {childList: true});\n",
       "}}\n",
       "\n",
       "// Listen for the clearing of the current output cell\n",
       "var outputEl = gd.closest('.output');\n",
       "if (outputEl) {{\n",
       "    x.observe(outputEl, {childList: true});\n",
       "}}\n",
       "\n",
       "                        })\n",
       "                };\n",
       "                });\n",
       "            </script>\n",
       "        </div>"
      ]
     },
     "metadata": {},
     "output_type": "display_data"
    }
   ],
   "source": [
    "data_type = places.groupby(by='trafficType', as_index=False).count()\n",
    "Trafficlabel = {\n",
    "    1:'One way',\n",
    "    2:'Bidirectional',\n",
    "    3:'Separated carriageways',\n",
    "    4:'With variable assignment channels'\n",
    "}\n",
    "\n",
    "data_type.trafficType =  data_type.trafficType.map(Trafficlabel)\n",
    "\n",
    "Title = \"Accidents by traffic type\"\n",
    "PlotPiechart(data_type.trafficType.values , data_type, 'Traffic type')"
   ]
  },
  {
   "cell_type": "code",
   "execution_count": 13,
   "metadata": {},
   "outputs": [
    {
     "data": {
      "application/vnd.plotly.v1+json": {
       "config": {
        "linkText": "Export to plot.ly",
        "plotlyServerURL": "https://plot.ly",
        "showLink": false
       },
       "data": [
        {
         "hole": 0.6,
         "hoverinfo": "label+percent+name",
         "labels": [
          null,
          "Dish",
          "Slope",
          "Hilltop",
          "Hill bottom"
         ],
         "name": "Road profile",
         "type": "pie",
         "uid": "901ea3fa-4876-4a85-aa94-c90e18bf8183",
         "values": [
          63894,
          634776,
          114043,
          15130,
          11081
         ]
        }
       ],
       "layout": {
        "annotations": [
         {
          "font": {
           "size": 40
          },
          "showarrow": false,
          "text": " ",
          "x": 5.5,
          "y": 0.5
         }
        ],
        "title": {
         "text": "Accidents by road profile"
        }
       }
      },
      "text/html": [
       "<div>\n",
       "        \n",
       "        \n",
       "            <div id=\"4961b3fe-8b1f-4d9c-a26a-4ef2105044a4\" class=\"plotly-graph-div\" style=\"height:525px; width:100%;\"></div>\n",
       "            <script type=\"text/javascript\">\n",
       "                require([\"plotly\"], function(Plotly) {\n",
       "                    window.PLOTLYENV=window.PLOTLYENV || {};\n",
       "                    window.PLOTLYENV.BASE_URL='https://plot.ly';\n",
       "                    \n",
       "                if (document.getElementById(\"4961b3fe-8b1f-4d9c-a26a-4ef2105044a4\")) {\n",
       "                    Plotly.newPlot(\n",
       "                        '4961b3fe-8b1f-4d9c-a26a-4ef2105044a4',\n",
       "                        [{\"hole\": 0.6, \"hoverinfo\": \"label+percent+name\", \"labels\": [null, \"Dish\", \"Slope\", \"Hilltop\", \"Hill bottom\"], \"name\": \"Road profile\", \"type\": \"pie\", \"uid\": \"901ea3fa-4876-4a85-aa94-c90e18bf8183\", \"values\": [63894, 634776, 114043, 15130, 11081]}],\n",
       "                        {\"annotations\": [{\"font\": {\"size\": 40}, \"showarrow\": false, \"text\": \" \", \"x\": 5.5, \"y\": 0.5}], \"title\": {\"text\": \"Accidents by road profile\"}},\n",
       "                        {\"responsive\": true, \"plotlyServerURL\": \"https://plot.ly\", \"linkText\": \"Export to plot.ly\", \"showLink\": false}\n",
       "                    ).then(function(){\n",
       "                            \n",
       "var gd = document.getElementById('4961b3fe-8b1f-4d9c-a26a-4ef2105044a4');\n",
       "var x = new MutationObserver(function (mutations, observer) {{\n",
       "        var display = window.getComputedStyle(gd).display;\n",
       "        if (!display || display === 'none') {{\n",
       "            console.log([gd, 'removed!']);\n",
       "            Plotly.purge(gd);\n",
       "            observer.disconnect();\n",
       "        }}\n",
       "}});\n",
       "\n",
       "// Listen for the removal of the full notebook cells\n",
       "var notebookContainer = gd.closest('#notebook-container');\n",
       "if (notebookContainer) {{\n",
       "    x.observe(notebookContainer, {childList: true});\n",
       "}}\n",
       "\n",
       "// Listen for the clearing of the current output cell\n",
       "var outputEl = gd.closest('.output');\n",
       "if (outputEl) {{\n",
       "    x.observe(outputEl, {childList: true});\n",
       "}}\n",
       "\n",
       "                        })\n",
       "                };\n",
       "                });\n",
       "            </script>\n",
       "        </div>"
      ]
     },
     "metadata": {},
     "output_type": "display_data"
    }
   ],
   "source": [
    "data_prof = places.groupby(by='roadProfile', as_index=False).count()\n",
    "profLable = {\n",
    "    1:'Dish',\n",
    "    2:'Slope',\n",
    "    3:'Hilltop',\n",
    "    4:'Hill bottom'  \n",
    "}\n",
    "\n",
    "data_prof.roadProfile =  data_prof.roadProfile.map(profLable)\n",
    "\n",
    "Title = \"Accidents by road profile\"\n",
    "PlotPiechart(data_prof.roadProfile.values , data_prof, 'Road profile')"
   ]
  },
  {
   "cell_type": "code",
   "execution_count": 14,
   "metadata": {},
   "outputs": [
    {
     "data": {
      "application/vnd.plotly.v1+json": {
       "config": {
        "linkText": "Export to plot.ly",
        "plotlyServerURL": "https://plot.ly",
        "showLink": false
       },
       "data": [
        {
         "hole": 0.6,
         "hoverinfo": "label+percent+name",
         "labels": [
          null,
          "Underground-tunel",
          "Bridge",
          "Exchanger or connection brace",
          "Railway",
          "Carrefour arranged",
          "Pedestrian area",
          "Toll zone"
         ],
         "name": "Infrastructure",
         "type": "pie",
         "uid": "3cc2d59f-833a-446e-9a15-1ac202ef8ef1",
         "values": [
          747965,
          6994,
          11720,
          12853,
          3034,
          50330,
          5299,
          512
         ]
        }
       ],
       "layout": {
        "annotations": [
         {
          "font": {
           "size": 40
          },
          "showarrow": false,
          "text": " ",
          "x": 5.5,
          "y": 0.5
         }
        ],
        "title": {
         "text": "Accidents by infrastructure"
        }
       }
      },
      "text/html": [
       "<div>\n",
       "        \n",
       "        \n",
       "            <div id=\"bb4370a1-2bec-4bb7-a830-20fd0644f1de\" class=\"plotly-graph-div\" style=\"height:525px; width:100%;\"></div>\n",
       "            <script type=\"text/javascript\">\n",
       "                require([\"plotly\"], function(Plotly) {\n",
       "                    window.PLOTLYENV=window.PLOTLYENV || {};\n",
       "                    window.PLOTLYENV.BASE_URL='https://plot.ly';\n",
       "                    \n",
       "                if (document.getElementById(\"bb4370a1-2bec-4bb7-a830-20fd0644f1de\")) {\n",
       "                    Plotly.newPlot(\n",
       "                        'bb4370a1-2bec-4bb7-a830-20fd0644f1de',\n",
       "                        [{\"hole\": 0.6, \"hoverinfo\": \"label+percent+name\", \"labels\": [null, \"Underground-tunel\", \"Bridge\", \"Exchanger or connection brace\", \"Railway\", \"Carrefour arranged\", \"Pedestrian area\", \"Toll zone\"], \"name\": \"Infrastructure\", \"type\": \"pie\", \"uid\": \"3cc2d59f-833a-446e-9a15-1ac202ef8ef1\", \"values\": [747965, 6994, 11720, 12853, 3034, 50330, 5299, 512]}],\n",
       "                        {\"annotations\": [{\"font\": {\"size\": 40}, \"showarrow\": false, \"text\": \" \", \"x\": 5.5, \"y\": 0.5}], \"title\": {\"text\": \"Accidents by infrastructure\"}},\n",
       "                        {\"responsive\": true, \"plotlyServerURL\": \"https://plot.ly\", \"linkText\": \"Export to plot.ly\", \"showLink\": false}\n",
       "                    ).then(function(){\n",
       "                            \n",
       "var gd = document.getElementById('bb4370a1-2bec-4bb7-a830-20fd0644f1de');\n",
       "var x = new MutationObserver(function (mutations, observer) {{\n",
       "        var display = window.getComputedStyle(gd).display;\n",
       "        if (!display || display === 'none') {{\n",
       "            console.log([gd, 'removed!']);\n",
       "            Plotly.purge(gd);\n",
       "            observer.disconnect();\n",
       "        }}\n",
       "}});\n",
       "\n",
       "// Listen for the removal of the full notebook cells\n",
       "var notebookContainer = gd.closest('#notebook-container');\n",
       "if (notebookContainer) {{\n",
       "    x.observe(notebookContainer, {childList: true});\n",
       "}}\n",
       "\n",
       "// Listen for the clearing of the current output cell\n",
       "var outputEl = gd.closest('.output');\n",
       "if (outputEl) {{\n",
       "    x.observe(outputEl, {childList: true});\n",
       "}}\n",
       "\n",
       "                        })\n",
       "                };\n",
       "                });\n",
       "            </script>\n",
       "        </div>"
      ]
     },
     "metadata": {},
     "output_type": "display_data"
    }
   ],
   "source": [
    "data_infra = places.groupby(by='infrastructure', as_index=False).count()\n",
    "profLable = {\n",
    "    1:'Underground-tunel',\n",
    "    2:'Bridge',\n",
    "    3:'Exchanger or connection brace',\n",
    "    4:'Railway',\n",
    "    5:'Carrefour arranged',\n",
    "    6:'Pedestrian area',\n",
    "    7:'Toll zone',\n",
    "    \n",
    "}\n",
    "\n",
    "data_infra.infrastructure =  data_infra.infrastructure.map(profLable)\n",
    "\n",
    "Title = \"Accidents by infrastructure\"\n",
    "PlotPiechart(data_infra.infrastructure.values , data_infra, 'Infrastructure')"
   ]
  },
  {
   "cell_type": "code",
   "execution_count": 15,
   "metadata": {},
   "outputs": [
    {
     "data": {
      "application/vnd.plotly.v1+json": {
       "config": {
        "linkText": "Export to plot.ly",
        "plotlyServerURL": "https://plot.ly",
        "showLink": false
       },
       "data": [
        {
         "hole": 0.6,
         "hoverinfo": "label+percent+name",
         "labels": [
          null,
          "On the road",
          "On emergency stop band",
          "n the verge",
          "On the sidewalk",
          "On bike path"
         ],
         "name": "situation of Accident",
         "type": "pie",
         "uid": "2b9af162-3243-478c-8078-c95e90da8243",
         "values": [
          43291,
          722069,
          5191,
          48818,
          14493,
          5121
         ]
        }
       ],
       "layout": {
        "annotations": [
         {
          "font": {
           "size": 40
          },
          "showarrow": false,
          "text": " ",
          "x": 5.5,
          "y": 0.5
         }
        ],
        "title": {
         "text": "situation of Accident"
        }
       }
      },
      "text/html": [
       "<div>\n",
       "        \n",
       "        \n",
       "            <div id=\"1dd19ae7-724b-4a27-9ee2-2d8dc519ae56\" class=\"plotly-graph-div\" style=\"height:525px; width:100%;\"></div>\n",
       "            <script type=\"text/javascript\">\n",
       "                require([\"plotly\"], function(Plotly) {\n",
       "                    window.PLOTLYENV=window.PLOTLYENV || {};\n",
       "                    window.PLOTLYENV.BASE_URL='https://plot.ly';\n",
       "                    \n",
       "                if (document.getElementById(\"1dd19ae7-724b-4a27-9ee2-2d8dc519ae56\")) {\n",
       "                    Plotly.newPlot(\n",
       "                        '1dd19ae7-724b-4a27-9ee2-2d8dc519ae56',\n",
       "                        [{\"hole\": 0.6, \"hoverinfo\": \"label+percent+name\", \"labels\": [null, \"On the road\", \"On emergency stop band\", \"n the verge\", \"On the sidewalk\", \"On bike path\"], \"name\": \"situation of Accident\", \"type\": \"pie\", \"uid\": \"2b9af162-3243-478c-8078-c95e90da8243\", \"values\": [43291, 722069, 5191, 48818, 14493, 5121]}],\n",
       "                        {\"annotations\": [{\"font\": {\"size\": 40}, \"showarrow\": false, \"text\": \" \", \"x\": 5.5, \"y\": 0.5}], \"title\": {\"text\": \"situation of Accident\"}},\n",
       "                        {\"responsive\": true, \"plotlyServerURL\": \"https://plot.ly\", \"linkText\": \"Export to plot.ly\", \"showLink\": false}\n",
       "                    ).then(function(){\n",
       "                            \n",
       "var gd = document.getElementById('1dd19ae7-724b-4a27-9ee2-2d8dc519ae56');\n",
       "var x = new MutationObserver(function (mutations, observer) {{\n",
       "        var display = window.getComputedStyle(gd).display;\n",
       "        if (!display || display === 'none') {{\n",
       "            console.log([gd, 'removed!']);\n",
       "            Plotly.purge(gd);\n",
       "            observer.disconnect();\n",
       "        }}\n",
       "}});\n",
       "\n",
       "// Listen for the removal of the full notebook cells\n",
       "var notebookContainer = gd.closest('#notebook-container');\n",
       "if (notebookContainer) {{\n",
       "    x.observe(notebookContainer, {childList: true});\n",
       "}}\n",
       "\n",
       "// Listen for the clearing of the current output cell\n",
       "var outputEl = gd.closest('.output');\n",
       "if (outputEl) {{\n",
       "    x.observe(outputEl, {childList: true});\n",
       "}}\n",
       "\n",
       "                        })\n",
       "                };\n",
       "                });\n",
       "            </script>\n",
       "        </div>"
      ]
     },
     "metadata": {},
     "output_type": "display_data"
    }
   ],
   "source": [
    "data_sit = places.groupby(by='situationofAccident', as_index=False).count()\n",
    "profLable = {\n",
    "    1:'On the road',\n",
    "    2:'On emergency stop band',\n",
    "    3:'n the verge',\n",
    "    4:'On the sidewalk',\n",
    "    5:'On bike path',\n",
    "   \n",
    "}\n",
    "\n",
    "data_sit.situationofAccident =  data_sit.situationofAccident.map(profLable)\n",
    "\n",
    "Title = \"situation of Accident\"\n",
    "PlotPiechart(data_sit.situationofAccident.values , data_sit, 'situation of Accident')"
   ]
  },
  {
   "cell_type": "code",
   "execution_count": 16,
   "metadata": {},
   "outputs": [
    {
     "data": {
      "image/png": "[encoded data removed]",
      "text/plain": [
       "<Figure size 1008x720 with 1 Axes>"
      ]
     },
     "metadata": {},
     "output_type": "display_data"
    }
   ],
   "source": [
    "import seaborn as sns\n",
    "\n",
    "sns.set(style=\"whitegrid\")\n",
    "\n",
    "data_tmp = users.groupby(by='userCategory', as_index=False).count()\n",
    "\n",
    "\n",
    "profLable = {\n",
    "    0:'NULL',\n",
    "    1:'driver',\n",
    "    2:'passanger',\n",
    "    3:'pedestrian',\n",
    "    4:'Pedestrian in\\n rollerblade or scooter',\n",
    "   \n",
    "}\n",
    "data_tmp.userCategory = data_tmp.userCategory.map(profLable)\n",
    "data_tmp.AccidentID = data_tmp.AccidentID/len(users) * 100\n",
    "data_tmp = data_tmp.rename(index=str, columns={\"AccidentID\": \"Percentage\"})\n",
    "sns.set(rc={'figure.figsize':(14,10)})\n",
    "ax = sns.barplot(x='userCategory', y='Percentage', data=data_tmp)"
   ]
  },
  {
   "cell_type": "code",
   "execution_count": 17,
   "metadata": {},
   "outputs": [
    {
     "data": {
      "image/png": "[encoded data removed]",
      "text/plain": [
       "<Figure size 1008x720 with 1 Axes>"
      ]
     },
     "metadata": {},
     "output_type": "display_data"
    }
   ],
   "source": [
    "data_tmp = users.groupby(by='severity', as_index=False).count()\n",
    "\n",
    "\n",
    "profLable = {\n",
    "    0:'NULL',\n",
    "    1:'Unscathed',\n",
    "    2:'Killed',\n",
    "    3:'Hospitalized\\nwounded',\n",
    "    4:'Light injury',\n",
    "   \n",
    "}\n",
    "data_tmp.severity = data_tmp.severity.map(profLable)\n",
    "data_tmp.AccidentID = data_tmp.AccidentID/len(users) * 100\n",
    "data_tmp = data_tmp.rename(index=str, columns={\"AccidentID\": \"Percentage\"})\n",
    "sns.set(rc={'figure.figsize':(14,10)})\n",
    "ax = sns.barplot(x='severity', y='Percentage', data=data_tmp)"
   ]
  },
  {
   "cell_type": "code",
   "execution_count": 18,
   "metadata": {},
   "outputs": [
    {
     "data": {
      "image/png": "[encoded data removed]",
      "text/plain": [
       "<Figure size 1008x720 with 1 Axes>"
      ]
     },
     "metadata": {},
     "output_type": "display_data"
    }
   ],
   "source": [
    "data_tmp = users.groupby(by='sex', as_index=False).count()\n",
    "\n",
    "\n",
    "profLable = {\n",
    "    0:'NULL',\n",
    "    1:'Male',\n",
    "    2:'Female',   \n",
    "}\n",
    "data_tmp.sex = data_tmp.sex.map(profLable)\n",
    "data_tmp.AccidentID = data_tmp.AccidentID/len(users) * 100\n",
    "data_tmp = data_tmp.rename(index=str, columns={\"AccidentID\": \"Percentage\"})\n",
    "sns.set(rc={'figure.figsize':(14,10)})\n",
    "ax = sns.barplot(x='sex', y='Percentage', data=data_tmp)"
   ]
  },
  {
   "cell_type": "code",
   "execution_count": 19,
   "metadata": {},
   "outputs": [
    {
     "data": {
      "image/png": "[encoded data removed]",
      "text/plain": [
       "<Figure size 1008x720 with 1 Axes>"
      ]
     },
     "metadata": {},
     "output_type": "display_data"
    }
   ],
   "source": [
    "#accidents by driver sex\n",
    "data_tmp = users.loc[(users[\"userCategory\"]==1)]\n",
    "data_tmp = data_tmp.groupby(by='sex', as_index=False).count()\n",
    "\n",
    "\n",
    "profLable = {\n",
    "    0:'NULL',\n",
    "    1:'Male',\n",
    "    2:'Female',   \n",
    "}\n",
    "data_tmp.sex = data_tmp.sex.map(profLable)\n",
    "data_tmp.AccidentID = data_tmp.AccidentID/len(users.loc[(users[\"userCategory\"]==1)]) * 100\n",
    "data_tmp = data_tmp.rename(index=str, columns={\"AccidentID\": \"Percentage\"})\n",
    "sns.set(rc={'figure.figsize':(14,10)})\n",
    "ax = sns.barplot(x='sex', y='Percentage', data=data_tmp)\n"
   ]
  },
  {
   "cell_type": "code",
   "execution_count": 20,
   "metadata": {},
   "outputs": [
    {
     "data": {
      "image/png": "[encoded data removed]",
      "text/plain": [
       "<Figure size 1008x720 with 1 Axes>"
      ]
     },
     "metadata": {},
     "output_type": "display_data"
    }
   ],
   "source": [
    "#users by sex that are not drivers\n",
    "data_tmp = users.loc[(users[\"userCategory\"]!=1)]\n",
    "data_tmp = data_tmp.groupby(by='sex', as_index=False).count()\n",
    "\n",
    "\n",
    "profLable = {\n",
    "    0:'NULL',\n",
    "    1:'Male',\n",
    "    2:'Female',   \n",
    "}\n",
    "data_tmp.sex = data_tmp.sex.map(profLable)\n",
    "data_tmp.AccidentID = data_tmp.AccidentID/len(users.loc[(users[\"userCategory\"]!=1)]) * 100\n",
    "data_tmp = data_tmp.rename(index=str, columns={\"AccidentID\": \"Percentage\"})\n",
    "sns.set(rc={'figure.figsize':(14,10)})\n",
    "ax = sns.barplot(x='sex', y='Percentage', data=data_tmp)"
   ]
  },
  {
   "cell_type": "code",
   "execution_count": 21,
   "metadata": {},
   "outputs": [
    {
     "data": {
      "image/png": "[encoded data removed]",
      "text/plain": [
       "<Figure size 1008x720 with 1 Axes>"
      ]
     },
     "metadata": {},
     "output_type": "display_data"
    }
   ],
   "source": [
    "data_tmp = users.groupby(by=\"reasonForTraveling\", as_index=False).count()\n",
    "\n",
    "\n",
    "profLable = {\n",
    "    0:'NULL',\n",
    "    1:'Home-work',\n",
    "    2:'Home - school', \n",
    "    3:'Shopping\\n - Shopping',\n",
    "    4:'Professional use',\n",
    "    5:' Promenade\\n - leisure',\n",
    "    9:'Other',\n",
    "    \n",
    "}\n",
    "data_tmp.reasonForTraveling = data_tmp.reasonForTraveling.map(profLable)\n",
    "data_tmp.AccidentID = data_tmp.AccidentID/len(users) * 100\n",
    "data_tmp = data_tmp.rename(index=str, columns={\"AccidentID\": \"Percentage\"})\n",
    "sns.set(rc={'figure.figsize':(14,10)})\n",
    "ax = sns.barplot(x='reasonForTraveling', y='Percentage', data=data_tmp)"
   ]
  },
  {
   "cell_type": "code",
   "execution_count": 22,
   "metadata": {},
   "outputs": [
    {
     "data": {
      "image/png": "[encoded data removed]",
      "text/plain": [
       "<Figure size 1346.4x739.44 with 1 Axes>"
      ]
     },
     "metadata": {},
     "output_type": "display_data"
    }
   ],
   "source": [
    "#accidents by age of driver\n",
    "#everyone below 16 and above 90 put together\n",
    "data_tmp = users\n",
    "data_tmp = data_tmp.loc[data_tmp[\"userCategory\"] == 1]\n",
    "data_tmp = pd.merge(charactestics, data_tmp, on = \"AccidentID\")\n",
    "\n",
    "\n",
    "\n",
    "data_tmp[\"year\"] = data_tmp[\"year\"]+2000\n",
    "data_tmp[\"age\"]=data_tmp[\"year\"]- data_tmp[\"yearOfBirth\"]\n",
    "data_tmp=data_tmp.dropna(axis='rows')\n",
    "\n",
    "data_tmp[\"age\"] = data_tmp[\"age\"].apply(lambda x: 16 if (x<17) else x)\n",
    "data_tmp[\"age\"] = data_tmp[\"age\"].apply(lambda x: 90 if (x>89) else x)\n",
    "\n",
    "data_tmp2 = data_tmp\n",
    "data_tmp[\"age\"] = data_tmp[\"age\"].astype(int)\n",
    "\n",
    "data_tmp = data_tmp.groupby(by='age', as_index=False).count()\n",
    "\n",
    "data_tmp.AccidentID = data_tmp.AccidentID/len(data_tmp2) * 100\n",
    "\n",
    "data_tmp = data_tmp.rename(index=str, columns={\"AccidentID\": \"Percentage\"})\n",
    "\n",
    "\n",
    "sns.set(rc={'figure.figsize':(18.7,10.27)})\n",
    "ax = sns.barplot(x='age', y='Percentage', data=data_tmp)\n",
    "\n",
    "\n"
   ]
  },
  {
   "cell_type": "code",
   "execution_count": 23,
   "metadata": {},
   "outputs": [
    {
     "name": "stdout",
     "output_type": "stream",
     "text": [
      "0.0847097955496\n",
      "0.147540393195\n"
     ]
    }
   ],
   "source": [
    "data_tmp = users\n",
    "data_tmp = data_tmp.loc[(data_tmp[\"userCategory\"]==3) | (data_tmp[\"userCategory\"]==4)]\n",
    "print float(len(data_tmp))/len(users) #8%\n",
    "data_tmp = data_tmp.loc[(data_tmp[\"severity\"] == 2) | (data_tmp[\"severity\"] == 3)]\n",
    "print float(len(data_tmp))/len(users.loc[(users[\"severity\"] == 2) | (users[\"severity\"] == 3)]) \n",
    "#pedestrians get more serious injuries"
   ]
  },
  {
   "cell_type": "code",
   "execution_count": 24,
   "metadata": {},
   "outputs": [
    {
     "name": "stdout",
     "output_type": "stream",
     "text": [
      "0.170249013196\n",
      "0.187433878512\n"
     ]
    }
   ],
   "source": [
    "data_tmp = users\n",
    "data_tmp = data_tmp.loc[(data_tmp[\"userCategory\"]==2)]\n",
    "print float(len(data_tmp))/len(users) #\n",
    "data_tmp = data_tmp.loc[(data_tmp[\"severity\"] == 2) | (data_tmp[\"severity\"] == 3)]\n",
    "print float(len(data_tmp))/len(users.loc[(users[\"severity\"] == 2) | (users[\"severity\"] == 3)]) "
   ]
  },
  {
   "cell_type": "code",
   "execution_count": 25,
   "metadata": {},
   "outputs": [
    {
     "name": "stdout",
     "output_type": "stream",
     "text": [
      "0.745041191255\n",
      "0.665025728293\n"
     ]
    }
   ],
   "source": [
    "data_tmp = users\n",
    "data_tmp = data_tmp.loc[(data_tmp[\"userCategory\"]==1)]\n",
    "print float(len(data_tmp))/len(users) \n",
    "data_tmp = data_tmp.loc[(data_tmp[\"severity\"] == 2) | (data_tmp[\"severity\"] == 3)]\n",
    "print float(len(data_tmp))/len(users.loc[(users[\"severity\"] == 2) | (users[\"severity\"] == 3)]) \n"
   ]
  },
  {
   "cell_type": "code",
   "execution_count": 26,
   "metadata": {},
   "outputs": [
    {
     "data": {
      "image/png": "[encoded data removed]",
      "text/plain": [
       "<Figure size 842.4x595.44 with 1 Axes>"
      ]
     },
     "metadata": {},
     "output_type": "display_data"
    }
   ],
   "source": [
    "data_tmp = users.groupby(by=\"locationOfPedestrian\", as_index=False).count()\n",
    "\n",
    "\n",
    "profLable = {\n",
    "    0:'NULL',\n",
    "    1:'A + 50 m from\\n the pedestrian crossing',\n",
    "    2:'2 - A - 50 m from\\n the pedestrian crossing',\n",
    "    3:'Without light signaling', \n",
    "    4:' With light signaling',\n",
    "    5:'On the sidewalk',\n",
    "    6:' On the verge',\n",
    "    7:'On refuge or BAU',\n",
    "    8:'On against aisle'\n",
    "    \n",
    "}\n",
    "data_tmp.locationOfPedestrian = data_tmp.locationOfPedestrian.map(profLable)\n",
    "data_tmp.AccidentID = data_tmp.AccidentID/len(users) * 100\n",
    "data_tmp = data_tmp.rename(index=str, columns={\"AccidentID\": \"Percentage\"})\n",
    "sns.set(rc={'figure.figsize':(11.7,8.27)})\n",
    "ax = sns.barplot(x=\"locationOfPedestrian\", y='Percentage', data=data_tmp)"
   ]
  }
 ],
 "metadata": {
  "kernelspec": {
   "display_name": "Python 3",
   "language": "python",
   "name": "python3"
  },
  "language_info": {
   "codemirror_mode": {
    "name": "ipython",
    "version": 2
   },
   "file_extension": ".py",
   "mimetype": "text/x-python",
   "name": "python",
   "nbconvert_exporter": "python",
   "pygments_lexer": "ipython2",
   "version": "2.7.15rc1"
  }
 },
 "nbformat": 4,
 "nbformat_minor": 2
}
