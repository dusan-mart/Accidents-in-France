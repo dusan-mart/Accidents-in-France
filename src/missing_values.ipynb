{
 "cells": [
  {
   "cell_type": "code",
   "execution_count": 1,
   "metadata": {},
   "outputs": [
    {
     "data": {
      "text/html": [
       "        <script type=\"text/javascript\">\n",
       "        window.PlotlyConfig = {MathJaxConfig: 'local'};\n",
       "        if (window.MathJax) {MathJax.Hub.Config({SVG: {font: \"STIX-Web\"}});}\n",
       "        if (typeof require !== 'undefined') {\n",
       "        require.undef(\"plotly\");\n",
       "        requirejs.config({\n",
       "            paths: {\n",
       "                'plotly': ['https://cdn.plot.ly/plotly-latest.min']\n",
       "            }\n",
       "        });\n",
       "        require(['plotly'], function(Plotly) {\n",
       "            window._Plotly = Plotly;\n",
       "        });\n",
       "        }\n",
       "        </script>\n",
       "        "
      ]
     },
     "metadata": {},
     "output_type": "display_data"
    }
   ],
   "source": [
    "import pandas as pd\n",
    "import numpy as np\n",
    "import plotly\n",
    "import plotly.offline as plt\n",
    "import plotly.figure_factory as ff\n",
    "import seaborn as sns\n",
    "import matplotlib as mplt\n",
    "%matplotlib inline\n",
    "plotly.offline.init_notebook_mode(connected=True)\n",
    "\n"
   ]
  },
  {
   "cell_type": "code",
   "execution_count": 2,
   "metadata": {},
   "outputs": [],
   "source": [
    "charactestics = pd.read_csv('caracteristics.csv', low_memory=False)\n",
    "holidays = pd.read_csv('holidays.csv', low_memory=False)\n",
    "places = pd.read_csv('places.csv', low_memory=False)\n",
    "users = pd.read_csv('users.csv',low_memory=False)\n"
   ]
  },
  {
   "cell_type": "code",
   "execution_count": 3,
   "metadata": {},
   "outputs": [],
   "source": [
    "rename_columns = {\n",
    "    #characterstics\n",
    "    'Num_Acc':'AccidentID',\n",
    "    'an':'year',\n",
    "    'mois':'month',\n",
    "    'jour':'day',\n",
    "    'hrmn':'hour',\n",
    "    'lum':'lighting',\n",
    "    'agg':'city/countryside',\n",
    "    'int':'intersection',\n",
    "    'atm':'atmosphericCondition',\n",
    "    'col':'collisionType',\n",
    "    'com':'municipality',\n",
    "    'adr':'address',\n",
    "    'gps':'gps_coding',\n",
    "    'lat':'latitude',\n",
    "    'long':'longitude',\n",
    "    'dep':'department',\n",
    "    #places\n",
    "    'catr':'roadCategory',\n",
    "    'voie':'roadNumber',\n",
    "    'v1':'routeNumber',\n",
    "    'v2':'routeName',\n",
    "    'circ':'trafficType',\n",
    "    'nbv':'numberofLanes',\n",
    "    'pr':'homePRNumber',\n",
    "    'pr1':'PRDistance',\n",
    "    'vosp':'reservedLane',\n",
    "    'prof':'roadProfile',\n",
    "    'plan':'laneStructure',\n",
    "    'lartpc':'centralLaneWidth',\n",
    "    'larrout':'outerLaneWidth',\n",
    "    'surf':'surfaceCondition',\n",
    "    'infra':'infrastructure',\n",
    "    'situ':'situationofAccident',\n",
    "    'env1':'schoolPoint',\n",
    "    #users\n",
    "    'Acc_number':'AccidentID',\n",
    "    'place':'place',\n",
    "    'catu':'userCategory',\n",
    "    'grav':'severity',\n",
    "    'sexe' : 'sex',\n",
    "    'trajet':'reasonForTraveling',\n",
    "    'secu':'safetyEquipment',\n",
    "    'locp':'locationOfPedestrian',\n",
    "    'actp':'actionOfPedestrian',\n",
    "    'etatp':'pedestrianGroup',\n",
    "    'an_nais':'yearOfBirth',\n",
    "    'num_veh':'registrationOfVehicle',\n",
    "}\n",
    "\n",
    "charactestics.rename(index=str, columns= rename_columns, inplace=True)\n",
    "holidays.rename(index=str, columns=rename_columns, inplace=True)\n",
    "places.rename(index=str, columns=rename_columns, inplace=True)\n",
    "users.rename(index=str, columns=rename_columns, inplace=True)"
   ]
  },
  {
   "cell_type": "code",
   "execution_count": 4,
   "metadata": {},
   "outputs": [
    {
     "data": {
      "text/html": [
       "<div>\n",
       "<style scoped>\n",
       "    .dataframe tbody tr th:only-of-type {\n",
       "        vertical-align: middle;\n",
       "    }\n",
       "\n",
       "    .dataframe tbody tr th {\n",
       "        vertical-align: top;\n",
       "    }\n",
       "\n",
       "    .dataframe thead th {\n",
       "        text-align: right;\n",
       "    }\n",
       "</style>\n",
       "<table border=\"1\" class=\"dataframe\">\n",
       "  <thead>\n",
       "    <tr style=\"text-align: right;\">\n",
       "      <th></th>\n",
       "      <th>AccidentID</th>\n",
       "      <th>year</th>\n",
       "      <th>month</th>\n",
       "      <th>day</th>\n",
       "      <th>hour</th>\n",
       "      <th>lighting</th>\n",
       "      <th>city/countryside</th>\n",
       "      <th>intersection</th>\n",
       "      <th>atmosphericCondition</th>\n",
       "      <th>collisionType</th>\n",
       "      <th>municipality</th>\n",
       "      <th>address</th>\n",
       "      <th>gps_coding</th>\n",
       "      <th>latitude</th>\n",
       "      <th>longitude</th>\n",
       "      <th>department</th>\n",
       "    </tr>\n",
       "  </thead>\n",
       "  <tbody>\n",
       "    <tr>\n",
       "      <th>0</th>\n",
       "      <td>201600000001</td>\n",
       "      <td>16</td>\n",
       "      <td>2</td>\n",
       "      <td>1</td>\n",
       "      <td>1445</td>\n",
       "      <td>1</td>\n",
       "      <td>2</td>\n",
       "      <td>1</td>\n",
       "      <td>8.0</td>\n",
       "      <td>3.0</td>\n",
       "      <td>5.0</td>\n",
       "      <td>46, rue Sonneville</td>\n",
       "      <td>M</td>\n",
       "      <td>0.0</td>\n",
       "      <td>0</td>\n",
       "      <td>590</td>\n",
       "    </tr>\n",
       "    <tr>\n",
       "      <th>1</th>\n",
       "      <td>201600000002</td>\n",
       "      <td>16</td>\n",
       "      <td>3</td>\n",
       "      <td>16</td>\n",
       "      <td>1800</td>\n",
       "      <td>1</td>\n",
       "      <td>2</td>\n",
       "      <td>6</td>\n",
       "      <td>1.0</td>\n",
       "      <td>6.0</td>\n",
       "      <td>5.0</td>\n",
       "      <td>1a rue du cimeti�re</td>\n",
       "      <td>M</td>\n",
       "      <td>0.0</td>\n",
       "      <td>0</td>\n",
       "      <td>590</td>\n",
       "    </tr>\n",
       "    <tr>\n",
       "      <th>2</th>\n",
       "      <td>201600000003</td>\n",
       "      <td>16</td>\n",
       "      <td>7</td>\n",
       "      <td>13</td>\n",
       "      <td>1900</td>\n",
       "      <td>1</td>\n",
       "      <td>1</td>\n",
       "      <td>1</td>\n",
       "      <td>1.0</td>\n",
       "      <td>6.0</td>\n",
       "      <td>11.0</td>\n",
       "      <td>NaN</td>\n",
       "      <td>M</td>\n",
       "      <td>0.0</td>\n",
       "      <td>0</td>\n",
       "      <td>590</td>\n",
       "    </tr>\n",
       "    <tr>\n",
       "      <th>3</th>\n",
       "      <td>201600000004</td>\n",
       "      <td>16</td>\n",
       "      <td>8</td>\n",
       "      <td>15</td>\n",
       "      <td>1930</td>\n",
       "      <td>2</td>\n",
       "      <td>2</td>\n",
       "      <td>1</td>\n",
       "      <td>7.0</td>\n",
       "      <td>3.0</td>\n",
       "      <td>477.0</td>\n",
       "      <td>52 rue victor hugo</td>\n",
       "      <td>M</td>\n",
       "      <td>0.0</td>\n",
       "      <td>0</td>\n",
       "      <td>590</td>\n",
       "    </tr>\n",
       "    <tr>\n",
       "      <th>4</th>\n",
       "      <td>201600000005</td>\n",
       "      <td>16</td>\n",
       "      <td>12</td>\n",
       "      <td>23</td>\n",
       "      <td>1100</td>\n",
       "      <td>1</td>\n",
       "      <td>2</td>\n",
       "      <td>3</td>\n",
       "      <td>1.0</td>\n",
       "      <td>3.0</td>\n",
       "      <td>11.0</td>\n",
       "      <td>rue Joliot curie</td>\n",
       "      <td>M</td>\n",
       "      <td>0.0</td>\n",
       "      <td>0</td>\n",
       "      <td>590</td>\n",
       "    </tr>\n",
       "  </tbody>\n",
       "</table>\n",
       "</div>"
      ],
      "text/plain": [
       "     AccidentID  year  month  day  hour  lighting  city/countryside  \\\n",
       "0  201600000001    16      2    1  1445         1                 2   \n",
       "1  201600000002    16      3   16  1800         1                 2   \n",
       "2  201600000003    16      7   13  1900         1                 1   \n",
       "3  201600000004    16      8   15  1930         2                 2   \n",
       "4  201600000005    16     12   23  1100         1                 2   \n",
       "\n",
       "   intersection  atmosphericCondition  collisionType  municipality  \\\n",
       "0             1                   8.0            3.0           5.0   \n",
       "1             6                   1.0            6.0           5.0   \n",
       "2             1                   1.0            6.0          11.0   \n",
       "3             1                   7.0            3.0         477.0   \n",
       "4             3                   1.0            3.0          11.0   \n",
       "\n",
       "               address gps_coding  latitude longitude  department  \n",
       "0   46, rue Sonneville          M       0.0         0         590  \n",
       "1  1a rue du cimeti�re          M       0.0         0         590  \n",
       "2                  NaN          M       0.0         0         590  \n",
       "3   52 rue victor hugo          M       0.0         0         590  \n",
       "4     rue Joliot curie          M       0.0         0         590  "
      ]
     },
     "execution_count": 4,
     "metadata": {},
     "output_type": "execute_result"
    }
   ],
   "source": [
    "charactestics.head(5)"
   ]
  },
  {
   "cell_type": "code",
   "execution_count": 5,
   "metadata": {},
   "outputs": [
    {
     "data": {
      "image/png": "[encoded data removed]",
      "text/plain": [
       "<Figure size 432x288 with 1 Axes>"
      ]
     },
     "metadata": {
      "needs_background": "light"
     },
     "output_type": "display_data"
    }
   ],
   "source": [
    "#missing values\n",
    "sns.heatmap(charactestics.isnull(), cbar=False)\n",
    "sns.set(rc={'figure.figsize':(14,10)})\n"
   ]
  },
  {
   "cell_type": "code",
   "execution_count": 6,
   "metadata": {},
   "outputs": [
    {
     "data": {
      "text/html": [
       "<div>\n",
       "<style scoped>\n",
       "    .dataframe tbody tr th:only-of-type {\n",
       "        vertical-align: middle;\n",
       "    }\n",
       "\n",
       "    .dataframe tbody tr th {\n",
       "        vertical-align: top;\n",
       "    }\n",
       "\n",
       "    .dataframe thead th {\n",
       "        text-align: right;\n",
       "    }\n",
       "</style>\n",
       "<table border=\"1\" class=\"dataframe\">\n",
       "  <thead>\n",
       "    <tr style=\"text-align: right;\">\n",
       "      <th></th>\n",
       "      <th>percentage</th>\n",
       "    </tr>\n",
       "  </thead>\n",
       "  <tbody>\n",
       "    <tr>\n",
       "      <th>longitude</th>\n",
       "      <td>0.568484</td>\n",
       "    </tr>\n",
       "    <tr>\n",
       "      <th>latitude</th>\n",
       "      <td>0.568479</td>\n",
       "    </tr>\n",
       "    <tr>\n",
       "      <th>gps_coding</th>\n",
       "      <td>0.564009</td>\n",
       "    </tr>\n",
       "    <tr>\n",
       "      <th>address</th>\n",
       "      <td>0.167315</td>\n",
       "    </tr>\n",
       "    <tr>\n",
       "      <th>atmosphericCondition</th>\n",
       "      <td>0.000065</td>\n",
       "    </tr>\n",
       "    <tr>\n",
       "      <th>collisionType</th>\n",
       "      <td>0.000013</td>\n",
       "    </tr>\n",
       "    <tr>\n",
       "      <th>municipality</th>\n",
       "      <td>0.000002</td>\n",
       "    </tr>\n",
       "    <tr>\n",
       "      <th>AccidentID</th>\n",
       "      <td>0.000000</td>\n",
       "    </tr>\n",
       "    <tr>\n",
       "      <th>year</th>\n",
       "      <td>0.000000</td>\n",
       "    </tr>\n",
       "    <tr>\n",
       "      <th>month</th>\n",
       "      <td>0.000000</td>\n",
       "    </tr>\n",
       "    <tr>\n",
       "      <th>day</th>\n",
       "      <td>0.000000</td>\n",
       "    </tr>\n",
       "    <tr>\n",
       "      <th>hour</th>\n",
       "      <td>0.000000</td>\n",
       "    </tr>\n",
       "    <tr>\n",
       "      <th>lighting</th>\n",
       "      <td>0.000000</td>\n",
       "    </tr>\n",
       "    <tr>\n",
       "      <th>city/countryside</th>\n",
       "      <td>0.000000</td>\n",
       "    </tr>\n",
       "    <tr>\n",
       "      <th>intersection</th>\n",
       "      <td>0.000000</td>\n",
       "    </tr>\n",
       "    <tr>\n",
       "      <th>department</th>\n",
       "      <td>0.000000</td>\n",
       "    </tr>\n",
       "  </tbody>\n",
       "</table>\n",
       "</div>"
      ],
      "text/plain": [
       "                      percentage\n",
       "longitude               0.568484\n",
       "latitude                0.568479\n",
       "gps_coding              0.564009\n",
       "address                 0.167315\n",
       "atmosphericCondition    0.000065\n",
       "collisionType           0.000013\n",
       "municipality            0.000002\n",
       "AccidentID              0.000000\n",
       "year                    0.000000\n",
       "month                   0.000000\n",
       "day                     0.000000\n",
       "hour                    0.000000\n",
       "lighting                0.000000\n",
       "city/countryside        0.000000\n",
       "intersection            0.000000\n",
       "department              0.000000"
      ]
     },
     "execution_count": 6,
     "metadata": {},
     "output_type": "execute_result"
    }
   ],
   "source": [
    "#percentage table of missing values\n",
    "missingData = charactestics.isnull().sum() / len(charactestics)\n",
    "df = pd.DataFrame({'percentage': missingData})\n",
    "df = df.sort_values('percentage',ascending=False)\n",
    "df"
   ]
  },
  {
   "cell_type": "code",
   "execution_count": 7,
   "metadata": {},
   "outputs": [
    {
     "data": {
      "text/plain": [
       "<matplotlib.axes._subplots.AxesSubplot at 0x7f87908cda10>"
      ]
     },
     "execution_count": 7,
     "metadata": {},
     "output_type": "execute_result"
    },
    {
     "data": {
      "image/png": "[encoded data removed]",
      "text/plain": [
       "<Figure size 1008x720 with 1 Axes>"
      ]
     },
     "metadata": {},
     "output_type": "display_data"
    }
   ],
   "source": [
    "#sum of 0 values  \n",
    "tmp = len(charactestics)-charactestics.astype(bool).sum(axis=0) \n",
    "#count: charactestics.loc[charactestics[\"latitude\"] == 0].count() #117839\n",
    "#0 median goes through France\n",
    "tmp.sort_index().plot.bar()"
   ]
  },
  {
   "cell_type": "code",
   "execution_count": 8,
   "metadata": {},
   "outputs": [
    {
     "name": "stdout",
     "output_type": "stream",
     "text": [
      "AccidentID                   0\n",
      "year                         0\n",
      "month                        0\n",
      "day                          0\n",
      "hour                         0\n",
      "lighting                     0\n",
      "city/countryside             0\n",
      "intersection               106\n",
      "atmosphericCondition         0\n",
      "collisionType                0\n",
      "municipality                 1\n",
      "address                      0\n",
      "gps_coding                   0\n",
      "latitude                117839\n",
      "longitude                    0\n",
      "department                   0\n",
      "dtype: int64\n"
     ]
    }
   ],
   "source": [
    "#table of 0 values\n",
    "print tmp"
   ]
  },
  {
   "cell_type": "code",
   "execution_count": 9,
   "metadata": {},
   "outputs": [
    {
     "data": {
      "text/html": [
       "<div>\n",
       "<style scoped>\n",
       "    .dataframe tbody tr th:only-of-type {\n",
       "        vertical-align: middle;\n",
       "    }\n",
       "\n",
       "    .dataframe tbody tr th {\n",
       "        vertical-align: top;\n",
       "    }\n",
       "\n",
       "    .dataframe thead th {\n",
       "        text-align: right;\n",
       "    }\n",
       "</style>\n",
       "<table border=\"1\" class=\"dataframe\">\n",
       "  <thead>\n",
       "    <tr style=\"text-align: right;\">\n",
       "      <th></th>\n",
       "      <th>percentage</th>\n",
       "    </tr>\n",
       "  </thead>\n",
       "  <tbody>\n",
       "    <tr>\n",
       "      <th>ds</th>\n",
       "      <td>0.0</td>\n",
       "    </tr>\n",
       "    <tr>\n",
       "      <th>holiday</th>\n",
       "      <td>0.0</td>\n",
       "    </tr>\n",
       "  </tbody>\n",
       "</table>\n",
       "</div>"
      ],
      "text/plain": [
       "         percentage\n",
       "ds              0.0\n",
       "holiday         0.0"
      ]
     },
     "execution_count": 9,
     "metadata": {},
     "output_type": "execute_result"
    }
   ],
   "source": [
    "missingData = holidays.isnull().sum() / len(holidays)\n",
    "df = pd.DataFrame({'percentage': missingData})\n",
    "df = df.sort_values('percentage',ascending=False)\n",
    "df\n",
    "#no missing values in hlidays"
   ]
  },
  {
   "cell_type": "code",
   "execution_count": 10,
   "metadata": {},
   "outputs": [
    {
     "data": {
      "application/vnd.plotly.v1+json": {
       "config": {
        "linkText": "Export to plot.ly",
        "plotlyServerURL": "https://plot.ly",
        "showLink": false
       },
       "data": [
        {
         "type": "bar",
         "uid": "7ee1129e-aa6a-48e6-bf8b-d4de86894332",
         "x": [
          "roadNumber",
          "routeNumber",
          "routeName",
          "homePRNumber",
          "PRDistance"
         ],
         "y": [
          0.07032387483109817,
          0.6037834008940636,
          0.9595790401019065,
          0.5062173729292785,
          0.507773353095591
         ]
        }
       ],
       "layout": {
        "title": {
         "text": "Undefined values in places"
        }
       }
      },
      "text/html": [
       "<div>\n",
       "        \n",
       "        \n",
       "            <div id=\"aeff06e7-5df0-4477-8096-69cba348f8e6\" class=\"plotly-graph-div\" style=\"height:525px; width:100%;\"></div>\n",
       "            <script type=\"text/javascript\">\n",
       "                require([\"plotly\"], function(Plotly) {\n",
       "                    window.PLOTLYENV=window.PLOTLYENV || {};\n",
       "                    window.PLOTLYENV.BASE_URL='https://plot.ly';\n",
       "                    \n",
       "                if (document.getElementById(\"aeff06e7-5df0-4477-8096-69cba348f8e6\")) {\n",
       "                    Plotly.newPlot(\n",
       "                        'aeff06e7-5df0-4477-8096-69cba348f8e6',\n",
       "                        [{\"type\": \"bar\", \"uid\": \"7ee1129e-aa6a-48e6-bf8b-d4de86894332\", \"x\": [\"roadNumber\", \"routeNumber\", \"routeName\", \"homePRNumber\", \"PRDistance\"], \"y\": [0.07032387483109817, 0.6037834008940636, 0.9595790401019065, 0.5062173729292785, 0.507773353095591]}],\n",
       "                        {\"title\": {\"text\": \"Undefined values in places\"}},\n",
       "                        {\"responsive\": true, \"plotlyServerURL\": \"https://plot.ly\", \"linkText\": \"Export to plot.ly\", \"showLink\": false}\n",
       "                    ).then(function(){\n",
       "                            \n",
       "var gd = document.getElementById('aeff06e7-5df0-4477-8096-69cba348f8e6');\n",
       "var x = new MutationObserver(function (mutations, observer) {{\n",
       "        var display = window.getComputedStyle(gd).display;\n",
       "        if (!display || display === 'none') {{\n",
       "            console.log([gd, 'removed!']);\n",
       "            Plotly.purge(gd);\n",
       "            observer.disconnect();\n",
       "        }}\n",
       "}});\n",
       "\n",
       "// Listen for the removal of the full notebook cells\n",
       "var notebookContainer = gd.closest('#notebook-container');\n",
       "if (notebookContainer) {{\n",
       "    x.observe(notebookContainer, {childList: true});\n",
       "}}\n",
       "\n",
       "// Listen for the clearing of the current output cell\n",
       "var outputEl = gd.closest('.output');\n",
       "if (outputEl) {{\n",
       "    x.observe(outputEl, {childList: true});\n",
       "}}\n",
       "\n",
       "                        })\n",
       "                };\n",
       "                });\n",
       "            </script>\n",
       "        </div>"
      ]
     },
     "metadata": {},
     "output_type": "display_data"
    }
   ],
   "source": [
    "#missing data in places\n",
    "import plotly.graph_objs as go\n",
    "\n",
    "missingData = places.isnull().sum() / len(places)\n",
    "missingData = missingData[missingData > 0.05]\n",
    "missingData = missingData.to_frame()\n",
    "missingData.columns = ['missing']\n",
    "missingData.index.names = ['name']\n",
    "missingData['name'] = missingData.index\n",
    "data = [go.Bar(x=missingData['name'], y=missingData['missing'])]\n",
    "layout = go.Layout( title='Undefined values in places')\n",
    "fig = go.Figure(data=data, layout=layout)\n",
    "plt.iplot(fig)"
   ]
  },
  {
   "cell_type": "code",
   "execution_count": 11,
   "metadata": {},
   "outputs": [
    {
     "data": {
      "text/html": [
       "<div>\n",
       "<style scoped>\n",
       "    .dataframe tbody tr th:only-of-type {\n",
       "        vertical-align: middle;\n",
       "    }\n",
       "\n",
       "    .dataframe tbody tr th {\n",
       "        vertical-align: top;\n",
       "    }\n",
       "\n",
       "    .dataframe thead th {\n",
       "        text-align: right;\n",
       "    }\n",
       "</style>\n",
       "<table border=\"1\" class=\"dataframe\">\n",
       "  <thead>\n",
       "    <tr style=\"text-align: right;\">\n",
       "      <th></th>\n",
       "      <th>percentage</th>\n",
       "    </tr>\n",
       "  </thead>\n",
       "  <tbody>\n",
       "    <tr>\n",
       "      <th>routeName</th>\n",
       "      <td>0.959579</td>\n",
       "    </tr>\n",
       "    <tr>\n",
       "      <th>routeNumber</th>\n",
       "      <td>0.603783</td>\n",
       "    </tr>\n",
       "    <tr>\n",
       "      <th>PRDistance</th>\n",
       "      <td>0.507773</td>\n",
       "    </tr>\n",
       "    <tr>\n",
       "      <th>homePRNumber</th>\n",
       "      <td>0.506217</td>\n",
       "    </tr>\n",
       "    <tr>\n",
       "      <th>roadNumber</th>\n",
       "      <td>0.070324</td>\n",
       "    </tr>\n",
       "    <tr>\n",
       "      <th>centralLaneWidth</th>\n",
       "      <td>0.011363</td>\n",
       "    </tr>\n",
       "    <tr>\n",
       "      <th>outerLaneWidth</th>\n",
       "      <td>0.009856</td>\n",
       "    </tr>\n",
       "    <tr>\n",
       "      <th>numberofLanes</th>\n",
       "      <td>0.002131</td>\n",
       "    </tr>\n",
       "    <tr>\n",
       "      <th>reservedLane</th>\n",
       "      <td>0.001952</td>\n",
       "    </tr>\n",
       "    <tr>\n",
       "      <th>infrastructure</th>\n",
       "      <td>0.001521</td>\n",
       "    </tr>\n",
       "    <tr>\n",
       "      <th>schoolPoint</th>\n",
       "      <td>0.001519</td>\n",
       "    </tr>\n",
       "    <tr>\n",
       "      <th>laneStructure</th>\n",
       "      <td>0.001281</td>\n",
       "    </tr>\n",
       "    <tr>\n",
       "      <th>roadProfile</th>\n",
       "      <td>0.001263</td>\n",
       "    </tr>\n",
       "    <tr>\n",
       "      <th>surfaceCondition</th>\n",
       "      <td>0.001211</td>\n",
       "    </tr>\n",
       "    <tr>\n",
       "      <th>situationofAccident</th>\n",
       "      <td>0.001193</td>\n",
       "    </tr>\n",
       "    <tr>\n",
       "      <th>trafficType</th>\n",
       "      <td>0.000950</td>\n",
       "    </tr>\n",
       "    <tr>\n",
       "      <th>roadCategory</th>\n",
       "      <td>0.000001</td>\n",
       "    </tr>\n",
       "    <tr>\n",
       "      <th>AccidentID</th>\n",
       "      <td>0.000000</td>\n",
       "    </tr>\n",
       "  </tbody>\n",
       "</table>\n",
       "</div>"
      ],
      "text/plain": [
       "                     percentage\n",
       "routeName              0.959579\n",
       "routeNumber            0.603783\n",
       "PRDistance             0.507773\n",
       "homePRNumber           0.506217\n",
       "roadNumber             0.070324\n",
       "centralLaneWidth       0.011363\n",
       "outerLaneWidth         0.009856\n",
       "numberofLanes          0.002131\n",
       "reservedLane           0.001952\n",
       "infrastructure         0.001521\n",
       "schoolPoint            0.001519\n",
       "laneStructure          0.001281\n",
       "roadProfile            0.001263\n",
       "surfaceCondition       0.001211\n",
       "situationofAccident    0.001193\n",
       "trafficType            0.000950\n",
       "roadCategory           0.000001\n",
       "AccidentID             0.000000"
      ]
     },
     "execution_count": 11,
     "metadata": {},
     "output_type": "execute_result"
    }
   ],
   "source": [
    "missingData = places.isnull().sum() / len(places)\n",
    "df = pd.DataFrame({'percentage': missingData})\n",
    "df = df.sort_values('percentage',ascending=False)\n",
    "df"
   ]
  },
  {
   "cell_type": "code",
   "execution_count": 12,
   "metadata": {},
   "outputs": [
    {
     "data": {
      "text/plain": [
       "<matplotlib.axes._subplots.AxesSubplot at 0x7f8790965910>"
      ]
     },
     "execution_count": 12,
     "metadata": {},
     "output_type": "execute_result"
    },
    {
     "data": {
      "image/png": "[encoded data removed]",
      "text/plain": [
       "<Figure size 864x720 with 1 Axes>"
      ]
     },
     "metadata": {},
     "output_type": "display_data"
    }
   ],
   "source": [
    "#0 values \n",
    "tmp = len(places) - places.astype(bool).sum(axis=0) \n",
    "tmp.sort_index().plot.bar(figsize=(12,10))"
   ]
  },
  {
   "cell_type": "code",
   "execution_count": 13,
   "metadata": {},
   "outputs": [
    {
     "name": "stdout",
     "output_type": "stream",
     "text": [
      "reservedLane           787021\n",
      "infrastructure         747965\n",
      "centralLaneWidth       699686\n",
      "schoolPoint            477933\n",
      "routeNumber            325698\n",
      "outerLaneWidth         258253\n",
      "PRDistance             173181\n",
      "homePRNumber           129543\n",
      "numberofLanes          102796\n",
      "roadProfile             63894\n",
      "laneStructure           57847\n",
      "trafficType             44556\n",
      "situationofAccident     43291\n",
      "surfaceCondition        26998\n",
      "routeName                   0\n",
      "roadNumber                  0\n",
      "roadCategory                0\n",
      "AccidentID                  0\n",
      "dtype: int64\n"
     ]
    }
   ],
   "source": [
    "print tmp.sort_values(ascending=False)"
   ]
  },
  {
   "cell_type": "code",
   "execution_count": 14,
   "metadata": {},
   "outputs": [
    {
     "data": {
      "text/html": [
       "<div>\n",
       "<style scoped>\n",
       "    .dataframe tbody tr th:only-of-type {\n",
       "        vertical-align: middle;\n",
       "    }\n",
       "\n",
       "    .dataframe tbody tr th {\n",
       "        vertical-align: top;\n",
       "    }\n",
       "\n",
       "    .dataframe thead th {\n",
       "        text-align: right;\n",
       "    }\n",
       "</style>\n",
       "<table border=\"1\" class=\"dataframe\">\n",
       "  <thead>\n",
       "    <tr style=\"text-align: right;\">\n",
       "      <th></th>\n",
       "      <th>percentage</th>\n",
       "    </tr>\n",
       "  </thead>\n",
       "  <tbody>\n",
       "    <tr>\n",
       "      <th>place</th>\n",
       "      <td>0.053500</td>\n",
       "    </tr>\n",
       "    <tr>\n",
       "      <th>safetyEquipment</th>\n",
       "      <td>0.023165</td>\n",
       "    </tr>\n",
       "    <tr>\n",
       "      <th>yearOfBirth</th>\n",
       "      <td>0.001253</td>\n",
       "    </tr>\n",
       "    <tr>\n",
       "      <th>actionOfPedestrian</th>\n",
       "      <td>0.000945</td>\n",
       "    </tr>\n",
       "    <tr>\n",
       "      <th>pedestrianGroup</th>\n",
       "      <td>0.000909</td>\n",
       "    </tr>\n",
       "    <tr>\n",
       "      <th>locationOfPedestrian</th>\n",
       "      <td>0.000887</td>\n",
       "    </tr>\n",
       "    <tr>\n",
       "      <th>reasonForTraveling</th>\n",
       "      <td>0.000197</td>\n",
       "    </tr>\n",
       "    <tr>\n",
       "      <th>AccidentID</th>\n",
       "      <td>0.000000</td>\n",
       "    </tr>\n",
       "    <tr>\n",
       "      <th>userCategory</th>\n",
       "      <td>0.000000</td>\n",
       "    </tr>\n",
       "    <tr>\n",
       "      <th>severity</th>\n",
       "      <td>0.000000</td>\n",
       "    </tr>\n",
       "    <tr>\n",
       "      <th>sex</th>\n",
       "      <td>0.000000</td>\n",
       "    </tr>\n",
       "    <tr>\n",
       "      <th>registrationOfVehicle</th>\n",
       "      <td>0.000000</td>\n",
       "    </tr>\n",
       "  </tbody>\n",
       "</table>\n",
       "</div>"
      ],
      "text/plain": [
       "                       percentage\n",
       "place                    0.053500\n",
       "safetyEquipment          0.023165\n",
       "yearOfBirth              0.001253\n",
       "actionOfPedestrian       0.000945\n",
       "pedestrianGroup          0.000909\n",
       "locationOfPedestrian     0.000887\n",
       "reasonForTraveling       0.000197\n",
       "AccidentID               0.000000\n",
       "userCategory             0.000000\n",
       "severity                 0.000000\n",
       "sex                      0.000000\n",
       "registrationOfVehicle    0.000000"
      ]
     },
     "execution_count": 14,
     "metadata": {},
     "output_type": "execute_result"
    }
   ],
   "source": [
    "#users missing data\n",
    "missingData = users.isnull().sum() / len(users)\n",
    "df = pd.DataFrame({'percentage': missingData})\n",
    "df = df.sort_values('percentage',ascending=False)\n",
    "df\n"
   ]
  },
  {
   "cell_type": "code",
   "execution_count": 15,
   "metadata": {},
   "outputs": [
    {
     "data": {
      "text/plain": [
       "<matplotlib.axes._subplots.AxesSubplot at 0x7f87cb93b050>"
      ]
     },
     "execution_count": 15,
     "metadata": {},
     "output_type": "execute_result"
    },
    {
     "data": {
      "image/png": "[encoded data removed]",
      "text/plain": [
       "<Figure size 864x720 with 1 Axes>"
      ]
     },
     "metadata": {},
     "output_type": "display_data"
    }
   ],
   "source": [
    "#0 values in users\n",
    "tmp = len(users) - users.astype(bool).sum(axis=0) \n",
    "tmp.sort_index().plot.bar(figsize=(12,10))"
   ]
  },
  {
   "cell_type": "code",
   "execution_count": 16,
   "metadata": {},
   "outputs": [
    {
     "name": "stdout",
     "output_type": "stream",
     "text": [
      "locationOfPedestrian     1732439\n",
      "pedestrianGroup          1725093\n",
      "actionOfPedestrian       1723439\n",
      "reasonForTraveling        550516\n",
      "safetyEquipment            68374\n",
      "place                      60766\n",
      "registrationOfVehicle          0\n",
      "yearOfBirth                    0\n",
      "sex                            0\n",
      "severity                       0\n",
      "userCategory                   0\n",
      "AccidentID                     0\n",
      "dtype: int64\n"
     ]
    }
   ],
   "source": [
    "print tmp.sort_values(ascending=False)"
   ]
  }
 ],
 "metadata": {
  "kernelspec": {
   "display_name": "Python 3",
   "language": "python",
   "name": "python3"
  },
  "language_info": {
   "codemirror_mode": {
    "name": "ipython",
    "version": 2
   },
   "file_extension": ".py",
   "mimetype": "text/x-python",
   "name": "python",
   "nbconvert_exporter": "python",
   "pygments_lexer": "ipython2",
   "version": "2.7.17"
  }
 },
 "nbformat": 4,
 "nbformat_minor": 2
}
